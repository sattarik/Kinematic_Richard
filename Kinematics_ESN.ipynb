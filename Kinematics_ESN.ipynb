{
 "cells": [
  {
   "cell_type": "code",
   "execution_count": null,
   "metadata": {
    "executionInfo": {
     "elapsed": 6,
     "status": "ok",
     "timestamp": 1650568181202,
     "user": {
      "displayName": "Richard Byfield",
      "userId": "08418502536369717731"
     },
     "user_tz": 300
    },
    "id": "0JzdZaudW8su"
   },
   "outputs": [],
   "source": [
    "# Import the necessary libraries \n",
    "import pandas as pd\n",
    "from matplotlib import pyplot as plt\n",
    "from reservoirpy.nodes import Reservoir, Ridge, Input\n",
    "import numpy as np\n",
    "from reservoirpy.observables import nrmse, rsquare\n",
    "import json\n",
    "from reservoirpy.hyper import research\n",
    "from reservoirpy.hyper import plot_hyperopt_report\n",
    "from reservoirpy.observables import rmse, rsquare, nrmse\n",
    "\n",
    "import numpy as np\n",
    "import tensorflow as tf\n",
    "from tensorflow import keras\n",
    "from tensorflow.keras import layers\n"
   ]
  },
  {
   "cell_type": "code",
   "execution_count": null,
   "metadata": {},
   "outputs": [],
   "source": [
    "emg_data_train = pd.read_csv('./Kinematics_Train_Data_EMG.csv')\n",
    "emg_data_test = pd.read_csv('./Kinematics_Test_Data_EMG.csv')\n",
    "angles_data_train = pd.read_csv('./Kinematics_Train_Data_Angles.csv')\n",
    "angles_data_test = pd.read_csv('./Kinematics_Test_Data_Angles.csv')"
   ]
  },
  {
   "cell_type": "code",
   "execution_count": null,
   "metadata": {
    "executionInfo": {
     "elapsed": 320,
     "status": "ok",
     "timestamp": 1650568205810,
     "user": {
      "displayName": "Richard Byfield",
      "userId": "08418502536369717731"
     },
     "user_tz": 300
    },
    "id": "1__Q1hEhXLEq"
   },
   "outputs": [],
   "source": [
    "#angles_data_train = angles_data_train.drop(columns = [\"Lead_Pelvis_Ant\", \"Lead_Pelvis_Olb\", \"Lead_Pelvis_IE\",\"Trail_Pelvis_Ant\", \"Trail_Pelvis_Olb\", \"Trail_Pelvis_IE\"])\n",
    "#angles_data_test = angles_data_test.drop(columns = [\"Lead_Pelvis_Ant\", \"Lead_Pelvis_Olb\", \"Lead_Pelvis_IE\",\"Trail_Pelvis_Ant\", \"Trail_Pelvis_Olb\", \"Trail_Pelvis_IE\"])\n",
    "angles_data_test\n",
    "len(emg_data_train)\n",
    "emg_data_train_test = np.array(emg_data_train)\n",
    "data_per_subject = 101\n",
    "n_subjects = int (emg_data_train_test.shape[0]/data_per_subject)\n",
    "\n",
    "emg_data_train_test = emg_data_train_test.reshape(n_subjects, data_per_subject, 16)\n",
    "\n",
    "angles_data_train_test = np.array(angles_data_train)\n",
    "angles_data_train_test = angles_data_train_test.reshape(n_subjects, data_per_subject, 20)\n",
    "\n",
    "# how many output angles you want to predict\n",
    "n_angles = 17\n",
    "angles_data_train_test = angles_data_train_test[:, :, 0:n_angles]\n",
    "\n",
    "emg_data_train_test_ev = np.array(emg_data_train)\n",
    "emg_data_train_test_ev\n",
    "\n",
    "emg_data_test_test = np.array(emg_data_test)\n",
    "emg_data_test_test = emg_data_test_test.reshape(n_subjects, data_per_subject, 16)\n",
    "\n",
    "#emg_data_test_test = emg_data_test_test.reshape(14, data_per_subject, 16)\n",
    "emg_data_test_test\n",
    "\n",
    "angles_data_test_test = np.array(angles_data_test)\n",
    "#angles_data_test_test = emg_data_test_test.reshape(14, data_per_subject, 16)\n",
    "angles_data_test_test = angles_data_test_test.reshape(n_subjects, data_per_subject, 20)\n",
    "angles_data_test_test = angles_data_test_test[:, :, 0:n_angles]\n",
    "\n",
    "# emg_left_01_test = np.array(emg_left_01)\n",
    "# emg_left_01_test = emg_left_01_test.reshape(1, data_per_subject, 16)\n",
    "# emg_left_01_test\n",
    "# angles_left_01_test = np.array(angles_left_01)\n",
    "# angles_left_01_test = angles_left_01_test.reshape(1, data_per_subject, 20)\n",
    "# angles_left_01_test\n",
    "\n",
    "x_train = emg_data_train_test\n",
    "y_train = angles_data_train_test\n",
    "x_test = emg_data_test_test\n",
    "y_test = angles_data_test_test\n",
    "x_train_ev = emg_data_train_test_ev"
   ]
  },
  {
   "cell_type": "code",
   "execution_count": null,
   "metadata": {},
   "outputs": [],
   "source": [
    "print (x_train.shape)\n",
    "print (y_train.shape)\n",
    "print (x_test.shape)\n",
    "print (y_test.shape)\n",
    "print (x_train_ev.shape)"
   ]
  },
  {
   "cell_type": "code",
   "execution_count": null,
   "metadata": {},
   "outputs": [],
   "source": [
    "batch_size = 1\n",
    "# Each MNIST image batch is a tensor of shape (batch_size, 28, 28).\n",
    "# Each input sequence will be of size (28, 28) (height is treated like time).\n",
    "input_dim = (data_per_subject, 16)\n",
    "\n",
    "units = 512\n",
    "output_size = 101  # labels are from 0 to 9\n",
    "\n",
    "# Build the RNN model\n",
    "def build_model(allow_cudnn_kernel=True):\n",
    "    # CuDNN is only available at the layer level, and not at the cell level.\n",
    "    # This means `LSTM(units)` will use the CuDNN kernel,\n",
    "    # while RNN(LSTMCell(units)) will run on non-CuDNN kernel.\n",
    "    model = keras.models.Sequential(\n",
    "        [\n",
    "            #keras.layers.GRU(256, return_sequences=True),\n",
    "            #keras.layers.RNN(keras.layers.LSTMCell(units)),\n",
    "            keras.layers.SimpleRNN(units, input_shape=( 101, 16)),\n",
    "            #keras.layers.Embedding(input_dim=101, output_dim=int((output_size*n_angles)/units)),\n",
    "            keras.layers.Embedding(input_dim=101, output_dim=8),\n",
    "            keras.layers.BatchNormalization(),\n",
    "            tf.keras.layers.Conv1D(n_angles, units-(data_per_subject-1)),\n",
    "            keras.layers.Dense(n_angles),\n",
    "            #keras.layers.Reshape((101, n_angles), input_shape=(101*n_angles,)),\n",
    "        ]\n",
    "    )\n",
    "    return model\n",
    "\n",
    "model = build_model()\n",
    "model.summary()"
   ]
  },
  {
   "cell_type": "code",
   "execution_count": null,
   "metadata": {},
   "outputs": [],
   "source": [
    "model = build_model(allow_cudnn_kernel=True)\n",
    "\n",
    "model.compile(\n",
    "    loss=keras.losses.MeanAbsoluteError(),\n",
    "    optimizer=\"sgd\",\n",
    "    metrics=[\"accuracy\"],\n",
    ")\n",
    "\n",
    "\n",
    "model.fit(\n",
    "    x_train, y_train, batch_size=batch_size, epochs=200\n",
    ")\n"
   ]
  },
  {
   "cell_type": "code",
   "execution_count": null,
   "metadata": {},
   "outputs": [],
   "source": [
    "mse = tf.keras.losses.MeanSquaredError()\n",
    "\n",
    "mse_train = mse (model.predict(x_train), y_train)\n",
    "mse_test = mse (model.predict(x_test), y_test)\n",
    "\n",
    "# root mean squared error\n",
    "rmse_train = mse_train**0.5\n",
    "rmse_test = mse_test**0.5\n",
    "\n",
    "print (\"training MSE\", mse_train)\n",
    "print (\"test MSE\", mse_test)\n",
    "\n",
    "print (\"training RMSE\", rmse_train)\n",
    "print (\"test RMSE\", rmse_test)"
   ]
  },
  {
   "cell_type": "code",
   "execution_count": null,
   "metadata": {},
   "outputs": [],
   "source": [
    "model.predict(x_train).shape"
   ]
  },
  {
   "cell_type": "code",
   "execution_count": null,
   "metadata": {},
   "outputs": [],
   "source": [
    "y_train.shape"
   ]
  },
  {
   "cell_type": "code",
   "execution_count": null,
   "metadata": {},
   "outputs": [],
   "source": [
    "import numpy as np\n",
    "import scipy.stats as stats\n",
    "\n",
    "Array1 = y_train\n",
    "Array2 = model.predict_on_batch(x_train)\n",
    "resultArray = np.ones(n_subjects*data_per_subject*n_angles).reshape(n_subjects,data_per_subject,n_angles)\n",
    "for i in range(Array1.shape[0]):\n",
    "        for j in range(Array1.shape[1]):\n",
    "            for k in range(Array1.shape[2]):\n",
    "                slope, intercept, r_value, p_value, std_err = stats.linregress(\n",
    "                    Array1[i, j, :],\n",
    "                    Array2[i, j, :])\n",
    "                R2 = r_value**2\n",
    "                resultArray[ i , j , k] = R2\n",
    "\n",
    "np.mean(resultArray)"
   ]
  },
  {
   "cell_type": "code",
   "execution_count": null,
   "metadata": {},
   "outputs": [],
   "source": [
    "resultArray.shape"
   ]
  },
  {
   "cell_type": "raw",
   "metadata": {},
   "source": [
    "# results for best paramters with seed 18\n",
    "Train RMSE = 8.745461044460743\n",
    "Train R2 = 0.6627805619077547\n",
    "Train NRMSE = 0.05025657246640679\n",
    "Test RMSE = 9.360996693646625\n",
    "Test R2 = 0.6136407050651576\n",
    "Test NRMSE = 0.0537938030139673"
   ]
  }
 ],
 "metadata": {
  "colab": {
   "authorship_tag": "ABX9TyMOgVz8keq5Y/ZpnuNTnV4R",
   "collapsed_sections": [],
   "name": "Kinematics_ESN.ipynb",
   "provenance": []
  },
  "kernelspec": {
   "display_name": "Python 3 (ipykernel)",
   "language": "python",
   "name": "python3"
  },
  "language_info": {
   "codemirror_mode": {
    "name": "ipython",
    "version": 3
   },
   "file_extension": ".py",
   "mimetype": "text/x-python",
   "name": "python",
   "nbconvert_exporter": "python",
   "pygments_lexer": "ipython3",
   "version": "3.9.16"
  }
 },
 "nbformat": 4,
 "nbformat_minor": 1
}
