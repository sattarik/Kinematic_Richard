{
 "cells": [
  {
   "cell_type": "code",
   "execution_count": null,
   "metadata": {
    "executionInfo": {
     "elapsed": 6,
     "status": "ok",
     "timestamp": 1650568181202,
     "user": {
      "displayName": "Richard Byfield",
      "userId": "08418502536369717731"
     },
     "user_tz": 300
    },
    "id": "0JzdZaudW8su"
   },
   "outputs": [],
   "source": [
    "# Import the necessary libraries \n",
    "import pandas as pd\n",
    "from matplotlib import pyplot as plt\n",
    "from reservoirpy.nodes import Reservoir, Ridge, Input\n",
    "import numpy as np\n",
    "from reservoirpy.observables import nrmse, rsquare\n",
    "import json\n",
    "from reservoirpy.hyper import research\n",
    "from reservoirpy.hyper import plot_hyperopt_report\n",
    "from reservoirpy.observables import rmse, rsquare, nrmse\n",
    "\n",
    "import numpy as np\n",
    "import tensorflow as tf\n",
    "from tensorflow import keras\n",
    "from tensorflow.keras import layers\n",
    "\n",
    "import scipy.stats as stats"
   ]
  },
  {
   "cell_type": "code",
   "execution_count": null,
   "metadata": {},
   "outputs": [],
   "source": [
    "# Load the data\n",
    "emg_data_train = pd.read_csv('./Kinematics_Train_Data_EMG.csv')\n",
    "emg_data_test = pd.read_csv('./Kinematics_Test_Data_EMG.csv')\n",
    "angles_data_train = pd.read_csv('./Kinematics_Train_Data_Angles.csv')\n",
    "angles_data_test = pd.read_csv('./Kinematics_Test_Data_Angles.csv')"
   ]
  },
  {
   "cell_type": "code",
   "execution_count": null,
   "metadata": {
    "executionInfo": {
     "elapsed": 320,
     "status": "ok",
     "timestamp": 1650568205810,
     "user": {
      "displayName": "Richard Byfield",
      "userId": "08418502536369717731"
     },
     "user_tz": 300
    },
    "id": "1__Q1hEhXLEq"
   },
   "outputs": [],
   "source": [
    "# Calculate the number of subjects in the training data\n",
    "emg_data_train_test = np.array(emg_data_train)\n",
    "data_per_subject = 101\n",
    "n_subjects = int (emg_data_train_test.shape[0]/data_per_subject)\n",
    "\n",
    "# Reshape EMG and angles training data\n",
    "emg_data_train_test = emg_data_train_test.reshape(n_subjects, data_per_subject, 16)\n",
    "angles_data_train_test = np.array(angles_data_train)\n",
    "angles_data_train_test = angles_data_train_test.reshape(n_subjects, data_per_subject, 20)\n",
    "\n",
    "# Define the number of output angles to predict\n",
    "n_angles = 17\n",
    "angles_data_train_test = angles_data_train_test[:, :, 0:n_angles]\n",
    "\n",
    "# Reshape EMG testing data\n",
    "emg_data_train_test_ev = np.array(emg_data_train)\n",
    "emg_data_train_test_ev\n",
    "\n",
    "# Reshape angles testing data\n",
    "emg_data_test_test = np.array(emg_data_test)\n",
    "emg_data_test_test = emg_data_test_test.reshape(n_subjects, data_per_subject, 16)\n",
    "\n",
    "#emg_data_test_test = emg_data_test_test.reshape(14, data_per_subject, 16)\n",
    "angles_data_test_test = np.array(angles_data_test)\n",
    "angles_data_test_test = angles_data_test_test.reshape(n_subjects, data_per_subject, 20)\n",
    "angles_data_test_test = angles_data_test_test[:, :, 0:n_angles]\n",
    "\n",
    "# Assign data to variables\n",
    "x_train = emg_data_train_test\n",
    "y_train = angles_data_train_test\n",
    "x_test = emg_data_test_test\n",
    "y_test = angles_data_test_test\n",
    "x_train_ev = emg_data_train_test_ev"
   ]
  },
  {
   "cell_type": "code",
   "execution_count": null,
   "metadata": {},
   "outputs": [],
   "source": [
    "# Define hyperparameters\n",
    "batch_size = 1\n",
    "input_dim = (data_per_subject, 16)\n",
    "units = 512\n",
    "output_size = 101  # labels are from 0 to 9\n",
    "\n",
    "# Build the RNN model\n",
    "def build_model(allow_cudnn_kernel=True):\n",
    "    model = keras.models.Sequential([\n",
    "        keras.layers.SimpleRNN(units, input_shape=(data_per_subject, 16)),\n",
    "        keras.layers.Embedding(input_dim=data_per_subject, output_dim=8),\n",
    "        keras.layers.BatchNormalization(),\n",
    "        tf.keras.layers.Conv1D(n_angles, units - (data_per_subject - 1)),\n",
    "        keras.layers.Dense(n_angles),\n",
    "    ])\n",
    "    return model\n",
    "\n",
    "# Create and display the model\n",
    "model = build_model()\n",
    "model.summary()\n"
   ]
  },
  {
   "cell_type": "code",
   "execution_count": null,
   "metadata": {},
   "outputs": [],
   "source": [
    "# Build the model\n",
    "model = build_model(allow_cudnn_kernel=True)\n",
    "\n",
    "# Compile the model\n",
    "model.compile(\n",
    "    loss=keras.losses.MeanAbsoluteError(),\n",
    "    optimizer=\"sgd\",\n",
    "    metrics=[\"accuracy\"],\n",
    ")\n",
    "\n",
    "# Train the model\n",
    "model.fit(x_train, y_train, batch_size=batch_size, epochs=200)\n"
   ]
  },
  {
   "cell_type": "code",
   "execution_count": null,
   "metadata": {},
   "outputs": [],
   "source": [
    "# Calculate Mean Squared Error (MSE) for training and test data\n",
    "mse = tf.keras.losses.MeanSquaredError()\n",
    "\n",
    "mse_train = mse (model.predict(x_train), y_train)\n",
    "mse_test = mse (model.predict(x_test), y_test)\n",
    "\n",
    "# Calculate Root Mean Squared Error (RMSE)\n",
    "rmse_train = mse_train**0.5\n",
    "rmse_test = mse_test**0.5"
   ]
  },
  {
   "cell_type": "code",
   "execution_count": null,
   "metadata": {},
   "outputs": [],
   "source": [
    "Array1 = y_train\n",
    "Array2 = model.predict_on_batch(x_train)\n",
    "resultArray = np.ones(n_subjects*data_per_subject*n_angles).reshape(n_subjects,data_per_subject,n_angles)\n",
    "\n",
    "for i in range(Array1.shape[0]):\n",
    "        for j in range(Array1.shape[1]):\n",
    "            for k in range(Array1.shape[2]):\n",
    "                slope, intercept, r_value, p_value, std_err = stats.linregress(\n",
    "                    Array1[i, j, :],\n",
    "                    Array2[i, j, :]\n",
    "                )\n",
    "                R2 = r_value ** 2\n",
    "                resultArray[ i , j , k] = R2\n",
    "\n",
    "mean_R2 = np.mean(resultArray)"
   ]
  }
 ],
 "metadata": {
  "colab": {
   "authorship_tag": "ABX9TyMOgVz8keq5Y/ZpnuNTnV4R",
   "collapsed_sections": [],
   "name": "Kinematics_ESN.ipynb",
   "provenance": []
  },
  "kernelspec": {
   "display_name": "Python 3 (ipykernel)",
   "language": "python",
   "name": "python3"
  },
  "language_info": {
   "codemirror_mode": {
    "name": "ipython",
    "version": 3
   },
   "file_extension": ".py",
   "mimetype": "text/x-python",
   "name": "python",
   "nbconvert_exporter": "python",
   "pygments_lexer": "ipython3",
   "version": "3.9.16"
  }
 },
 "nbformat": 4,
 "nbformat_minor": 1
}
